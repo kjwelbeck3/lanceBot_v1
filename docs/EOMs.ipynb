{
 "cells": [
  {
   "cell_type": "code",
   "execution_count": 1,
   "id": "72671b69",
   "metadata": {},
   "outputs": [],
   "source": [
    "import sympy\n",
    "from sympy import symbols, Matrix, Function, sin, cos, zeros, eye, simplify, lambdify, diag, Eq, solve, pi\n",
    "import numpy as np"
   ]
  },
  {
   "cell_type": "code",
   "execution_count": 5,
   "id": "3d5096d6",
   "metadata": {},
   "outputs": [],
   "source": [
    "## Helper Functions \n",
    "\n",
    "## vector to se3\n",
    "def unhat6(hatted):\n",
    "    vec = Matrix([hatted[0,3], hatted[1,3], hatted[2,3], hatted[2,1], hatted[0,2], hatted[1,0]])\n",
    "    return vec\n",
    "\n",
    "## se3 from vector\n",
    "def hat6(unhatted):\n",
    "    hat = zeros(4,4)\n",
    "    v1 = unhatted[0, 0]\n",
    "    v2 = unhatted[1, 0]\n",
    "    v3 = unhatted[2, 0]\n",
    "    w1 = unhatted[3,0]\n",
    "    w2 = unhatted[4,0]\n",
    "    w3 = hatted[5,0]    \n",
    "    mat = Matrix([[0, -w3, w2, v1],[w3, 0, -w1, v2],[-w2, w1, 0, v3],[0, 0, 0, 0]])\n",
    "    return mat\n",
    "\n",
    "## Un-homogenizing a vector\n",
    "def unbar4(barred):\n",
    "    vec = barred[:3]\n",
    "    return vec\n",
    "\n",
    "## inverse of SE3 transform\n",
    "def SE3Inv(g):\n",
    "    inv = zeros(4,4)\n",
    "    inv[:3, :3] = g[:3,:3].T\n",
    "    inv[:3, 3] = -g[:3,:3].T * g[:3, 3]\n",
    "    inv[3, :] = g[3,:]\n",
    "    return inv\n",
    "\n",
    "## time derivative of SE3 transform\n",
    "def SE3dt(SE3, t):\n",
    "    return SE3.diff(t)\n",
    "\n",
    "def toG(ang, x, y):\n",
    "    return Matrix([[cos(ang), -sin(ang), 0, x],[sin(ang), cos(ang), 0, y],[0, 0, 1, 0],[0,0,0,1]])\n"
   ]
  },
  {
   "cell_type": "code",
   "execution_count": 31,
   "id": "774b3d59",
   "metadata": {},
   "outputs": [
    {
     "data": {
      "text/latex": [
       "$\\displaystyle \\left[\\begin{matrix}m & 0 & 0 & 0 & 0 & 0\\\\0 & m & 0 & 0 & 0 & 0\\\\0 & 0 & m & 0 & 0 & 0\\\\0 & 0 & 0 & 0 & 0 & 0\\\\0 & 0 & 0 & 0 & 0 & 0\\\\0 & 0 & 0 & 0 & 0 & I_{m}\\end{matrix}\\right]$"
      ],
      "text/plain": [
       "Matrix([\n",
       "[m, 0, 0, 0, 0,   0],\n",
       "[0, m, 0, 0, 0,   0],\n",
       "[0, 0, m, 0, 0,   0],\n",
       "[0, 0, 0, 0, 0,   0],\n",
       "[0, 0, 0, 0, 0,   0],\n",
       "[0, 0, 0, 0, 0, I_m]])"
      ]
     },
     "metadata": {},
     "output_type": "display_data"
    },
    {
     "data": {
      "text/plain": [
       "'KE_m, KE_M'"
      ]
     },
     "metadata": {},
     "output_type": "display_data"
    },
    {
     "data": {
      "text/latex": [
       "$\\displaystyle 0.5 R^{2} m \\left(\\frac{d}{d t} \\phi{\\left(t \\right)}\\right)^{2}$"
      ],
      "text/plain": [
       "0.5*R**2*m*Derivative(phi(t), t)**2"
      ]
     },
     "metadata": {},
     "output_type": "display_data"
    },
    {
     "data": {
      "text/latex": [
       "$\\displaystyle I_{M} \\left(0.5 \\sin^{2}{\\left(\\theta{\\left(t \\right)} \\right)} \\frac{d}{d t} \\theta{\\left(t \\right)} + 0.5 \\cos^{2}{\\left(\\theta{\\left(t \\right)} \\right)} \\frac{d}{d t} \\theta{\\left(t \\right)}\\right) \\left(\\sin^{2}{\\left(\\theta{\\left(t \\right)} \\right)} \\frac{d}{d t} \\theta{\\left(t \\right)} + \\cos^{2}{\\left(\\theta{\\left(t \\right)} \\right)} \\frac{d}{d t} \\theta{\\left(t \\right)}\\right) + M \\left(- L \\sin^{2}{\\left(\\theta{\\left(t \\right)} \\right)} \\frac{d}{d t} \\theta{\\left(t \\right)} + \\left(- L \\cos{\\left(\\theta{\\left(t \\right)} \\right)} \\frac{d}{d t} \\theta{\\left(t \\right)} + R \\frac{d}{d t} \\phi{\\left(t \\right)}\\right) \\cos{\\left(\\theta{\\left(t \\right)} \\right)}\\right) \\left(- 0.5 L \\sin^{2}{\\left(\\theta{\\left(t \\right)} \\right)} \\frac{d}{d t} \\theta{\\left(t \\right)} + 0.5 \\left(- L \\cos{\\left(\\theta{\\left(t \\right)} \\right)} \\frac{d}{d t} \\theta{\\left(t \\right)} + R \\frac{d}{d t} \\phi{\\left(t \\right)}\\right) \\cos{\\left(\\theta{\\left(t \\right)} \\right)}\\right) + M \\left(- L \\sin{\\left(\\theta{\\left(t \\right)} \\right)} \\cos{\\left(\\theta{\\left(t \\right)} \\right)} \\frac{d}{d t} \\theta{\\left(t \\right)} - \\left(- L \\cos{\\left(\\theta{\\left(t \\right)} \\right)} \\frac{d}{d t} \\theta{\\left(t \\right)} + R \\frac{d}{d t} \\phi{\\left(t \\right)}\\right) \\sin{\\left(\\theta{\\left(t \\right)} \\right)}\\right) \\left(- 0.5 L \\sin{\\left(\\theta{\\left(t \\right)} \\right)} \\cos{\\left(\\theta{\\left(t \\right)} \\right)} \\frac{d}{d t} \\theta{\\left(t \\right)} - 0.5 \\left(- L \\cos{\\left(\\theta{\\left(t \\right)} \\right)} \\frac{d}{d t} \\theta{\\left(t \\right)} + R \\frac{d}{d t} \\phi{\\left(t \\right)}\\right) \\sin{\\left(\\theta{\\left(t \\right)} \\right)}\\right)$"
      ],
      "text/plain": [
       "I_M*(0.5*sin(theta(t))**2*Derivative(theta(t), t) + 0.5*cos(theta(t))**2*Derivative(theta(t), t))*(sin(theta(t))**2*Derivative(theta(t), t) + cos(theta(t))**2*Derivative(theta(t), t)) + M*(-L*sin(theta(t))**2*Derivative(theta(t), t) + (-L*cos(theta(t))*Derivative(theta(t), t) + R*Derivative(phi(t), t))*cos(theta(t)))*(-0.5*L*sin(theta(t))**2*Derivative(theta(t), t) + 0.5*(-L*cos(theta(t))*Derivative(theta(t), t) + R*Derivative(phi(t), t))*cos(theta(t))) + M*(-L*sin(theta(t))*cos(theta(t))*Derivative(theta(t), t) - (-L*cos(theta(t))*Derivative(theta(t), t) + R*Derivative(phi(t), t))*sin(theta(t)))*(-0.5*L*sin(theta(t))*cos(theta(t))*Derivative(theta(t), t) - 0.5*(-L*cos(theta(t))*Derivative(theta(t), t) + R*Derivative(phi(t), t))*sin(theta(t)))"
      ]
     },
     "metadata": {},
     "output_type": "display_data"
    },
    {
     "data": {
      "text/plain": [
       "'PE_m, PE_M'"
      ]
     },
     "metadata": {},
     "output_type": "display_data"
    },
    {
     "data": {
      "text/latex": [
       "$\\displaystyle R g m$"
      ],
      "text/plain": [
       "R*g*m"
      ]
     },
     "metadata": {},
     "output_type": "display_data"
    },
    {
     "data": {
      "text/latex": [
       "$\\displaystyle M g \\left(L \\cos{\\left(\\theta{\\left(t \\right)} \\right)} + R\\right)$"
      ],
      "text/plain": [
       "M*g*(L*cos(theta(t)) + R)"
      ]
     },
     "metadata": {},
     "output_type": "display_data"
    }
   ],
   "source": [
    "## system parameters\n",
    "M, m, L, R, g, W, t = symbols(\"M, m, L, R, g, W, t\")\n",
    "\n",
    "## systems variables\n",
    "theta = Function(\"theta\")(t)\n",
    "phi = Function(\"phi\")(t)\n",
    "\n",
    "q = Matrix([theta, phi])\n",
    "qdot = q.diff(t)\n",
    "qddot = qdot.diff(t)\n",
    "\n",
    "thetadot = qdot[0]\n",
    "thetaddot = qddot[0]\n",
    "phidot = qdot[1]\n",
    "phiddot = qddot[1]\n",
    "\n",
    "## Setting up transformation of COM Frames wrt inertial frame {W}\n",
    "gWA = toG(0, phi*R, R)\n",
    "gAB = toG(theta, 0, 0)\n",
    "gBC = toG(0, 0, L)  ## THERE MIGHT BE AN OFSET FOR THE C.O.M IN THE X DIRECTION \n",
    "\n",
    "gWC = gWA*gAB*gBC\n",
    "\n",
    "## Velocities\n",
    "V_m = unhat6(SE3Inv(gWA) * SE3dt(gWA, t))\n",
    "V_M = unhat6(SE3Inv(gWC) * SE3dt(gWC, t))\n",
    "# display(\"V_m, V_M\", V_m, V_M)\n",
    "\n",
    "## MassInertia Matrices\n",
    "I_m, I_M = symbols(\"I_m, I_M\")\n",
    "MI_m = diag(m, m, m, 0, 0, I_m)\n",
    "MI_M = diag(M, M, M, 0, 0, I_M)\n",
    "display(MI_m)\n",
    "\n",
    "## Kinetic Energies\n",
    "KE_m = (1/2 * V_m.T * MI_m * V_m)[0]\n",
    "KE_M = (1/2 * V_M.T * MI_M * V_M)[0]\n",
    "display(\"KE_m, KE_M\", KE_m, KE_M)\n",
    "\n",
    "## Potential Energies\n",
    "PE_m = (m*g*gWA * Matrix([0,0,0,1]))[1]\n",
    "PE_M = (M*g*gWC * Matrix([0,0,0,1]))[1]\n",
    "display(\"PE_m, PE_M\", PE_m, PE_M)\n",
    "\n"
   ]
  },
  {
   "cell_type": "code",
   "execution_count": 29,
   "id": "76bb9712",
   "metadata": {},
   "outputs": [
    {
     "data": {
      "text/plain": [
       "'L'"
      ]
     },
     "metadata": {},
     "output_type": "display_data"
    },
    {
     "data": {
      "text/latex": [
       "$\\displaystyle 0.5 I_{M} \\left(\\frac{d}{d t} \\theta{\\left(t \\right)}\\right)^{2} + 0.5 L^{2} M \\left(\\frac{d}{d t} \\theta{\\left(t \\right)}\\right)^{2} - 1.0 L M R \\cos{\\left(\\theta{\\left(t \\right)} \\right)} \\frac{d}{d t} \\phi{\\left(t \\right)} \\frac{d}{d t} \\theta{\\left(t \\right)} - 1.0 L M g \\cos{\\left(\\theta{\\left(t \\right)} \\right)} + 0.5 M R^{2} \\left(\\frac{d}{d t} \\phi{\\left(t \\right)}\\right)^{2} - 1.0 M R g + 0.5 R^{2} m \\left(\\frac{d}{d t} \\phi{\\left(t \\right)}\\right)^{2} - 1.0 R g m$"
      ],
      "text/plain": [
       "0.5*I_M*Derivative(theta(t), t)**2 + 0.5*L**2*M*Derivative(theta(t), t)**2 - 1.0*L*M*R*cos(theta(t))*Derivative(phi(t), t)*Derivative(theta(t), t) - 1.0*L*M*g*cos(theta(t)) + 0.5*M*R**2*Derivative(phi(t), t)**2 - 1.0*M*R*g + 0.5*R**2*m*Derivative(phi(t), t)**2 - 1.0*R*g*m"
      ]
     },
     "metadata": {},
     "output_type": "display_data"
    }
   ],
   "source": [
    "## Lagrangian\n",
    "L = simplify(KE_m + KE_M - (PE_m + PE_M))\n",
    "display(\"L\", L)\n",
    "\n",
    "## Formulating the unconstrained E-L expression\n",
    "dLdq = L.diff(q)\n",
    "dLdqdot = L.diff(qdot)\n",
    "d_dt = dLdqdot.diff(t)\n",
    "EL = simplify(d_dt - dLdq)\n",
    "# print(\"Unconstrained Euler Lagrange expression:\")\n",
    "# display(EL)\n",
    "\n",
    "# H = (dLdqdot.T * qdot)[0] - L\n",
    "# print(\"Hamiltonian:\")\n",
    "# display(simplify(H))"
   ]
  },
  {
   "cell_type": "code",
   "execution_count": 28,
   "id": "401ee6e6",
   "metadata": {},
   "outputs": [
    {
     "data": {
      "text/plain": [
       "'thetadot'"
      ]
     },
     "metadata": {},
     "output_type": "display_data"
    },
    {
     "data": {
      "text/latex": [
       "$\\displaystyle \\frac{L M \\left(L M R \\sin{\\left(\\theta{\\left(t \\right)} \\right)} \\left(\\frac{d}{d t} \\theta{\\left(t \\right)}\\right)^{2} + \\tau\\right) \\cos{\\left(\\theta{\\left(t \\right)} \\right)} - R \\left(M + m\\right) \\left(L M g \\sin{\\left(\\theta{\\left(t \\right)} \\right)} + \\tau\\right)}{R \\left(L^{2} M^{2} \\cos^{2}{\\left(\\theta{\\left(t \\right)} \\right)} - \\left(I_{M} + L^{2} M\\right) \\left(M + m\\right)\\right)}$"
      ],
      "text/plain": [
       "(L*M*(L*M*R*sin(theta(t))*Derivative(theta(t), t)**2 + tau)*cos(theta(t)) - R*(M + m)*(L*M*g*sin(theta(t)) + tau))/(R*(L**2*M**2*cos(theta(t))**2 - (I_M + L**2*M)*(M + m)))"
      ]
     },
     "metadata": {},
     "output_type": "display_data"
    },
    {
     "data": {
      "text/plain": [
       "'phidot'"
      ]
     },
     "metadata": {},
     "output_type": "display_data"
    },
    {
     "data": {
      "text/latex": [
       "$\\displaystyle \\frac{- L M R \\left(L M g \\sin{\\left(\\theta{\\left(t \\right)} \\right)} + \\tau\\right) \\cos{\\left(\\theta{\\left(t \\right)} \\right)} + \\left(I_{M} + L^{2} M\\right) \\left(L M R \\sin{\\left(\\theta{\\left(t \\right)} \\right)} \\left(\\frac{d}{d t} \\theta{\\left(t \\right)}\\right)^{2} + \\tau\\right)}{R^{2} \\left(L^{2} M^{2} \\cos^{2}{\\left(\\theta{\\left(t \\right)} \\right)} - \\left(I_{M} + L^{2} M\\right) \\left(M + m\\right)\\right)}$"
      ],
      "text/plain": [
       "(-L*M*R*(L*M*g*sin(theta(t)) + tau)*cos(theta(t)) + (I_M + L**2*M)*(L*M*R*sin(theta(t))*Derivative(theta(t), t)**2 + tau))/(R**2*(L**2*M**2*cos(theta(t))**2 - (I_M + L**2*M)*(M + m)))"
      ]
     },
     "metadata": {},
     "output_type": "display_data"
    }
   ],
   "source": [
    "## Formulating the EL eqns with generalized external forces\n",
    "## Torque on wheels +tau; equal and opposite force on body\n",
    "## Discounting frictions between wheel-motor and wheel-ground\n",
    "\n",
    "tau = Function(\"tau\")(t)\n",
    "_tau = symbols(\"tau\")\n",
    "Forces =  Matrix([_tau, -_tau])\n",
    "EL_eqns = Eq(EL, Forces)\n",
    "# display(EL_eqns)\n",
    "\n",
    "\n",
    "## Solving for Accelerations\n",
    "solns = solve(EL_eqns, qddot)\n",
    "# display(solns)\n",
    "\n",
    "theta_dot = solns[qddot[0]]\n",
    "phi_dot = solns[qddot[1]]\n",
    "display(\"thetadot\", theta_dot)\n",
    "display(\"phidot\", phi_dot)"
   ]
  },
  {
   "cell_type": "code",
   "execution_count": null,
   "id": "d3416162",
   "metadata": {},
   "outputs": [],
   "source": [
    "## Solving for the theta/phi transfer function\n",
    "## need to linearize; equate taus, rearrangeve"
   ]
  }
 ],
 "metadata": {
  "kernelspec": {
   "display_name": "Python 3 (ipykernel)",
   "language": "python",
   "name": "python3"
  },
  "language_info": {
   "codemirror_mode": {
    "name": "ipython",
    "version": 3
   },
   "file_extension": ".py",
   "mimetype": "text/x-python",
   "name": "python",
   "nbconvert_exporter": "python",
   "pygments_lexer": "ipython3",
   "version": "3.8.10"
  }
 },
 "nbformat": 4,
 "nbformat_minor": 5
}
